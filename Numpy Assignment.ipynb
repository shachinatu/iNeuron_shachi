{
 "cells": [
  {
   "cell_type": "code",
   "execution_count": 10,
   "metadata": {},
   "outputs": [],
   "source": [
    "#Write a function so that the columns of the output matrix are powers of the input\n",
    "#vector.\n",
    "#The order of the powers is determined by the increasing boolean argument. Specifically, when\n",
    "#increasing is False, the i-th output column is the input vector raised element-wise to the power\n",
    "#of N - i - 1.\n",
    "\n",
    "import numpy as np\n",
    "\n",
    "def vandermonde_matrix(V,N,increasing=False):\n",
    "    if not increasing:\n",
    "        output = np.array([ele** (N-i-1) for ele in V for i in range(N)]).reshape(V.size,N)\n",
    "    elif increasing:\n",
    "        output = np.array([ele** i for ele in V for i in range(N)]).reshape(V.size,N)\n",
    "    return output"
   ]
  },
  {
   "cell_type": "code",
   "execution_count": 11,
   "metadata": {},
   "outputs": [
    {
     "name": "stdout",
     "output_type": "stream",
     "text": [
      "[[1 1 1]\n",
      " [1 2 4]\n",
      " [1 3 9]]\n"
     ]
    }
   ],
   "source": [
    "input_vector=[1,2,3]\n",
    "input_vector=np.array(input_vector)\n",
    "matrix = vandermonde_matrix(input_vector,3,True)\n",
    "print(matrix)"
   ]
  },
  {
   "cell_type": "code",
   "execution_count": 12,
   "metadata": {},
   "outputs": [
    {
     "name": "stdout",
     "output_type": "stream",
     "text": [
      "[[1 1 1]\n",
      " [4 2 1]\n",
      " [9 3 1]]\n"
     ]
    }
   ],
   "source": [
    "input_vector=[1,2,3]\n",
    "input_vector=np.array(input_vector)\n",
    "matrix = vandermonde_matrix(input_vector,3)\n",
    "print(matrix)"
   ]
  },
  {
   "cell_type": "code",
   "execution_count": 1,
   "metadata": {},
   "outputs": [],
   "source": [
    "#Write a function to find moving average in an array over a window:\n",
    " #Test it over [3, 5, 7, 2, 8, 10, 11, 65, 72, 81, 99, 100, 150] and window of 3.\n",
    "import numpy as np   "
   ]
  },
  {
   "cell_type": "code",
   "execution_count": 11,
   "metadata": {},
   "outputs": [
    {
     "name": "stdout",
     "output_type": "stream",
     "text": [
      "y1 = 4.25\n",
      "y2 = 5.5\n",
      "y3 = 6.75\n",
      "y4 = 7.75\n",
      "y5 = 23.5\n",
      "y6 = 39.5\n",
      "y7 = 57.25\n",
      "y8 = 79.25\n",
      "y9 = 88.0\n",
      "y10 = 107.5\n"
     ]
    }
   ],
   "source": [
    "arr=[3, 5, 7, 2, 8, 10, 11, 65, 72, 81, 99, 100, 150]\n",
    "#arr=[10,20,30,40,50,60,70,80,90,100]\n",
    "\n",
    "window_size=4\n",
    "length_of_arr=len(arr)\n",
    "#print(length_of_arr)\n",
    "for i in range(0,length_of_arr-window_size+1):\n",
    "    avg=np.mean(arr[i:i+4])\n",
    "    print(\"y{} = {}\".format((i+1),avg))"
   ]
  },
  {
   "cell_type": "code",
   "execution_count": null,
   "metadata": {},
   "outputs": [],
   "source": []
  }
 ],
 "metadata": {
  "kernelspec": {
   "display_name": "Python 3",
   "language": "python",
   "name": "python3"
  },
  "language_info": {
   "codemirror_mode": {
    "name": "ipython",
    "version": 3
   },
   "file_extension": ".py",
   "mimetype": "text/x-python",
   "name": "python",
   "nbconvert_exporter": "python",
   "pygments_lexer": "ipython3",
   "version": "3.6.5"
  }
 },
 "nbformat": 4,
 "nbformat_minor": 2
}
