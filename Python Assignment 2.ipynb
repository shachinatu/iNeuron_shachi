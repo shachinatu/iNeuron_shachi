{
 "cells": [
  {
   "cell_type": "code",
   "execution_count": 37,
   "metadata": {},
   "outputs": [
    {
     "name": "stdout",
     "output_type": "stream",
     "text": [
      "*\n",
      "* *\n",
      "* * *\n",
      "* * * *\n",
      "* * * * *\n",
      "* * * *\n",
      "* * *\n",
      "* *\n",
      "*\n"
     ]
    }
   ],
   "source": [
    "#Answer to Q. 1\n",
    "for i in range(1,6):\n",
    "    for j in range(1,i+1):\n",
    "        lst=['*']*j\n",
    "    print(*lst)\n",
    "    \n",
    "for i in range(4,0,-1):\n",
    "    for j in range(1,i+1):\n",
    "        lst=['*']*j\n",
    "    print(*lst)\n",
    "    "
   ]
  },
  {
   "cell_type": "code",
   "execution_count": 29,
   "metadata": {},
   "outputs": [
    {
     "name": "stdout",
     "output_type": "stream",
     "text": [
      "Enter the word to reverse:  shachi\n",
      "ihcahs\n"
     ]
    }
   ],
   "source": [
    "# Answer to Q. 2\n",
    "w=input(\"Enter the word to reverse:  \")\n",
    "result=[]\n",
    "for i in range(len(w)-1,-1,-1):\n",
    "    result.append(w[i])\n",
    "print(''.join(result))"
   ]
  },
  {
   "cell_type": "code",
   "execution_count": null,
   "metadata": {},
   "outputs": [],
   "source": []
  }
 ],
 "metadata": {
  "kernelspec": {
   "display_name": "Python 3",
   "language": "python",
   "name": "python3"
  },
  "language_info": {
   "codemirror_mode": {
    "name": "ipython",
    "version": 3
   },
   "file_extension": ".py",
   "mimetype": "text/x-python",
   "name": "python",
   "nbconvert_exporter": "python",
   "pygments_lexer": "ipython3",
   "version": "3.6.5"
  }
 },
 "nbformat": 4,
 "nbformat_minor": 2
}
